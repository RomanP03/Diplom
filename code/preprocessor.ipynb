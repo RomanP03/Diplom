{
 "cells": [
  {
   "cell_type": "code",
   "execution_count": 1,
   "id": "38440496",
   "metadata": {
    "scrolled": true
   },
   "outputs": [],
   "source": [
    "import pandas as pd\n",
    "\n",
    "import re\n",
    "\n",
    "import matplotlib.pyplot as plt\n",
    "\n",
    "import os"
   ]
  },
  {
   "cell_type": "code",
   "execution_count": 2,
   "id": "a7423d0f",
   "metadata": {},
   "outputs": [
    {
     "data": {
      "text/plain": [
       "'/home/bohdan/python_scripts/linguistics'"
      ]
     },
     "execution_count": 2,
     "metadata": {},
     "output_type": "execute_result"
    }
   ],
   "source": [
    "directory = os.getcwd()\n",
    "directory"
   ]
  },
  {
   "cell_type": "code",
   "execution_count": 3,
   "id": "259380e0",
   "metadata": {},
   "outputs": [],
   "source": [
    "number_of_lines = []\n",
    "\n",
    "directories = ['profilereader-main', 'unitychanspringbone', 'unityrenderstreaming', 'anotherthread-game', 'fpssample-game', 'unitycsreference', 'waveshooter-demo']\n",
    "\n",
    "# directory_path = directory[7]\n",
    "\n",
    "directory_path = 'unitycsreference'\n",
    "for file in os.listdir(f'{directory}/source/{directory_path}'):\n",
    "    filename, _ = os.path.splitext(file)\n",
    "\n",
    "    with open(f'{directory}/source/{directory_path}/{file}') as f:\n",
    "        lines = []\n",
    "        line_counter = 0\n",
    "        for line in f.readlines():\n",
    "            if not line.strip().startswith('/'):\n",
    "                line = re.sub(r'.*?\\/(.*)$', '', line)\n",
    "                line_counter += 1\n",
    "                lines.append(line)\n",
    "\n",
    "    lines = ' '.join(lines).replace('\\n', ' \\n ').replace(',', ' ').replace('@', '').replace(')', '').replace('}', '').replace(']', '')\n",
    "\n",
    "    number_of_lines.append(line_counter)\n",
    "\n",
    "    special_symbols = ['{', '(', ';', '[', '<', '>', '+', '=', '-', '/', '*', '^', '&', '!']\n",
    "\n",
    "    # for symbol in special_symbols:\n",
    "    #     lines = lines.replace(f'{symbol}', f' {symbol} ')\n",
    "\n",
    "    # рядок про крапку\n",
    "    lines = re.sub('\\.\\.', ' .. ', lines)\n",
    "    lines = re.sub('(?<=[a-zA-Z_\\?])\\.(?=[a-zA-Z_\\.])', ' . ', lines)\n",
    "    lines = re.sub('{', '{ ', lines)\n",
    "    lines = re.sub('\\(', ' ( ', lines)\n",
    "    lines = re.sub('\\[', ' [ ', lines)\n",
    "\n",
    "    # про < і не <=\n",
    "    lines = re.sub('<[^=-]', ' < ', lines)\n",
    "\n",
    "    # про > і не =>\n",
    "    lines = re.sub('(?<=[^=])>', ' > ', lines)\n",
    "\n",
    "    # = і не ==\n",
    "    lines = re.sub('=[^=>]', '= ', lines)\n",
    "\n",
    "    # ->\n",
    "    lines = re.sub('-[^>]', '- ', lines)\n",
    "\n",
    "    # + і не ++x чи x++\n",
    "    lines = re.sub('\\+\\+', ' ++ ', lines)\n",
    "    lines = re.sub('\\+[^\\+]', ' + ', lines)\n",
    "\n",
    "    # -\n",
    "    lines = re.sub('--', ' -- ', lines)\n",
    "    lines = re.sub('-[^-]', ' - ', lines)\n",
    "\n",
    "    # * \\\n",
    "    lines = re.sub('\\*', ' * ', lines)\n",
    "    lines = re.sub(r'\\\\', ' \\ ', lines)\n",
    "\n",
    "    # рядок про ? за винятком ?.\n",
    "    lines = re.sub('\\?[^\\.]', ' ? ', lines)\n",
    "\n",
    "\n",
    "    lines = re.sub(':', ' : ', lines)\n",
    "    lines = re.sub(';', ' ; ', lines)\n",
    "    lines = re.sub('\"', ' \" ', lines)\n",
    "\n",
    "    # замінити кілька пробілів одним\n",
    "    lines = re.sub('\\s+', ' ', lines)\n",
    "    # lines = re.sub(r'.*?\\\\(.*)\\\\n', '',lines)\n",
    "    # lines = re.sub(r'@', '', lines)\n",
    "    # lines\n",
    "    # lines.replace('\\n', ' \\n').replace(';', ' ;'))\n",
    "\n",
    "#     with open(f'{directory}/processed/{filename}.txt', 'w') as f:\n",
    "#         f.write(lines)\n",
    "\n",
    "    with open(f'{directory}/corpus/unity_code/{filename}.txt', 'w') as f:\n",
    "        f.write(lines)"
   ]
  },
  {
   "cell_type": "code",
   "execution_count": 4,
   "id": "f94f4917",
   "metadata": {},
   "outputs": [
    {
     "data": {
      "text/plain": [
       "0       4109\n",
       "1       4109\n",
       "2       4109\n",
       "3       2560\n",
       "4       1897\n",
       "        ... \n",
       "1132       4\n",
       "1133       3\n",
       "1134       1\n",
       "1135       0\n",
       "1136       0\n",
       "Length: 1137, dtype: int64"
      ]
     },
     "execution_count": 4,
     "metadata": {},
     "output_type": "execute_result"
    }
   ],
   "source": [
    "lines = pd.Series(number_of_lines).sort_values(ascending=False, ignore_index=True)\n",
    "\n",
    "lines"
   ]
  },
  {
   "cell_type": "code",
   "execution_count": 8,
   "id": "d250b248",
   "metadata": {},
   "outputs": [
    {
     "data": {
      "text/plain": [
       "<matplotlib.collections.PathCollection at 0x7fb6e5efe130>"
      ]
     },
     "execution_count": 8,
     "metadata": {},
     "output_type": "execute_result"
    },
    {
     "data": {
      "image/png": "[encoded data removed]",
      "text/plain": [
       "<Figure size 432x288 with 1 Axes>"
      ]
     },
     "metadata": {
      "needs_background": "light"
     },
     "output_type": "display_data"
    }
   ],
   "source": [
    "fig, ax = plt.subplots()\n",
    "\n",
    "ax.set_xscale('log')\n",
    "ax.set_yscale('log')\n",
    "ax.scatter(lines.index, lines)"
   ]
  },
  {
   "cell_type": "code",
   "execution_count": 7,
   "id": "cb085f7f",
   "metadata": {},
   "outputs": [],
   "source": [
    "with open(f'{filename}.txt', 'w') as file:\n",
    "    file.write(lines)"
   ]
  },
  {
   "cell_type": "code",
   "execution_count": 8,
   "id": "0c8a492e",
   "metadata": {},
   "outputs": [
    {
     "name": "stdout",
     "output_type": "stream",
     "text": [
      "13042\n"
     ]
    }
   ],
   "source": [
    "text = lines.split(' ')\n",
    "\n",
    "print(len(text))\n",
    "\n",
    "unique = {}\n",
    "for word in text:\n",
    "    if word in unique:\n",
    "        unique[word] += 1\n",
    "    else:\n",
    "        unique[word] = 1\n",
    "\n"
   ]
  },
  {
   "cell_type": "code",
   "execution_count": 9,
   "id": "9e6a3f73",
   "metadata": {},
   "outputs": [],
   "source": [
    "unique = pd.DataFrame.from_dict(unique, orient='index').reset_index()#, columns=['word', 'freq'])\\\n",
    "unique = unique.rename(columns={\"index\": \"word\", 0: \"freq\"})\n",
    "#unique.sort_valuse(by='0', ascending=False)"
   ]
  },
  {
   "cell_type": "code",
   "execution_count": 10,
   "id": "0e517871",
   "metadata": {
    "scrolled": true
   },
   "outputs": [
    {
     "data": {
      "text/html": [
       "<div>\n",
       "<style scoped>\n",
       "    .dataframe tbody tr th:only-of-type {\n",
       "        vertical-align: middle;\n",
       "    }\n",
       "\n",
       "    .dataframe tbody tr th {\n",
       "        vertical-align: top;\n",
       "    }\n",
       "\n",
       "    .dataframe thead th {\n",
       "        text-align: right;\n",
       "    }\n",
       "</style>\n",
       "<table border=\"1\" class=\"dataframe\">\n",
       "  <thead>\n",
       "    <tr style=\"text-align: right;\">\n",
       "      <th></th>\n",
       "      <th>word</th>\n",
       "      <th>freq</th>\n",
       "    </tr>\n",
       "  </thead>\n",
       "  <tbody>\n",
       "    <tr>\n",
       "      <th>0</th>\n",
       "      <td>(</td>\n",
       "      <td>1274</td>\n",
       "    </tr>\n",
       "    <tr>\n",
       "      <th>1</th>\n",
       "      <td>;</td>\n",
       "      <td>989</td>\n",
       "    </tr>\n",
       "    <tr>\n",
       "      <th>2</th>\n",
       "      <td>{</td>\n",
       "      <td>684</td>\n",
       "    </tr>\n",
       "    <tr>\n",
       "      <th>3</th>\n",
       "      <td>self</td>\n",
       "      <td>663</td>\n",
       "    </tr>\n",
       "    <tr>\n",
       "      <th>4</th>\n",
       "      <td>[</td>\n",
       "      <td>553</td>\n",
       "    </tr>\n",
       "    <tr>\n",
       "      <th>...</th>\n",
       "      <td>...</td>\n",
       "      <td>...</td>\n",
       "    </tr>\n",
       "    <tr>\n",
       "      <th>955</th>\n",
       "      <td>GetUserProperty</td>\n",
       "      <td>1</td>\n",
       "    </tr>\n",
       "    <tr>\n",
       "      <th>956</th>\n",
       "      <td>numUserData</td>\n",
       "      <td>1</td>\n",
       "    </tr>\n",
       "    <tr>\n",
       "      <th>957</th>\n",
       "      <td>reference</td>\n",
       "      <td>1</td>\n",
       "    </tr>\n",
       "    <tr>\n",
       "      <th>958</th>\n",
       "      <td>visibility</td>\n",
       "      <td>1</td>\n",
       "    </tr>\n",
       "    <tr>\n",
       "      <th>959</th>\n",
       "      <td></td>\n",
       "      <td>1</td>\n",
       "    </tr>\n",
       "  </tbody>\n",
       "</table>\n",
       "<p>960 rows × 2 columns</p>\n",
       "</div>"
      ],
      "text/plain": [
       "                word  freq\n",
       "0                  (  1274\n",
       "1                  ;   989\n",
       "2                  {   684\n",
       "3               self   663\n",
       "4                  [   553\n",
       "..               ...   ...\n",
       "955  GetUserProperty     1\n",
       "956      numUserData     1\n",
       "957        reference     1\n",
       "958       visibility     1\n",
       "959                      1\n",
       "\n",
       "[960 rows x 2 columns]"
      ]
     },
     "execution_count": 10,
     "metadata": {},
     "output_type": "execute_result"
    }
   ],
   "source": [
    "unique = unique.sort_values(by='freq', ascending=False).reset_index(drop=True)\n",
    "unique"
   ]
  },
  {
   "cell_type": "code",
   "execution_count": 11,
   "id": "db14d7f2",
   "metadata": {},
   "outputs": [
    {
     "data": {
      "text/html": [
       "<div>\n",
       "<style scoped>\n",
       "    .dataframe tbody tr th:only-of-type {\n",
       "        vertical-align: middle;\n",
       "    }\n",
       "\n",
       "    .dataframe tbody tr th {\n",
       "        vertical-align: top;\n",
       "    }\n",
       "\n",
       "    .dataframe thead th {\n",
       "        text-align: right;\n",
       "    }\n",
       "</style>\n",
       "<table border=\"1\" class=\"dataframe\">\n",
       "  <thead>\n",
       "    <tr style=\"text-align: right;\">\n",
       "      <th></th>\n",
       "      <th>word</th>\n",
       "      <th>freq</th>\n",
       "    </tr>\n",
       "  </thead>\n",
       "  <tbody>\n",
       "    <tr>\n",
       "      <th>592</th>\n",
       "      <td>world2local</td>\n",
       "      <td>1</td>\n",
       "    </tr>\n",
       "    <tr>\n",
       "      <th>593</th>\n",
       "      <td>Close</td>\n",
       "      <td>1</td>\n",
       "    </tr>\n",
       "    <tr>\n",
       "      <th>594</th>\n",
       "      <td>FloatArray</td>\n",
       "      <td>1</td>\n",
       "    </tr>\n",
       "    <tr>\n",
       "      <th>595</th>\n",
       "      <td>IntArray</td>\n",
       "      <td>1</td>\n",
       "    </tr>\n",
       "    <tr>\n",
       "      <th>596</th>\n",
       "      <td>GetNumScenes</td>\n",
       "      <td>1</td>\n",
       "    </tr>\n",
       "    <tr>\n",
       "      <th>...</th>\n",
       "      <td>...</td>\n",
       "      <td>...</td>\n",
       "    </tr>\n",
       "    <tr>\n",
       "      <th>955</th>\n",
       "      <td>GetUserProperty</td>\n",
       "      <td>1</td>\n",
       "    </tr>\n",
       "    <tr>\n",
       "      <th>956</th>\n",
       "      <td>numUserData</td>\n",
       "      <td>1</td>\n",
       "    </tr>\n",
       "    <tr>\n",
       "      <th>957</th>\n",
       "      <td>reference</td>\n",
       "      <td>1</td>\n",
       "    </tr>\n",
       "    <tr>\n",
       "      <th>958</th>\n",
       "      <td>visibility</td>\n",
       "      <td>1</td>\n",
       "    </tr>\n",
       "    <tr>\n",
       "      <th>959</th>\n",
       "      <td></td>\n",
       "      <td>1</td>\n",
       "    </tr>\n",
       "  </tbody>\n",
       "</table>\n",
       "<p>368 rows × 2 columns</p>\n",
       "</div>"
      ],
      "text/plain": [
       "                word  freq\n",
       "592      world2local     1\n",
       "593            Close     1\n",
       "594       FloatArray     1\n",
       "595         IntArray     1\n",
       "596     GetNumScenes     1\n",
       "..               ...   ...\n",
       "955  GetUserProperty     1\n",
       "956      numUserData     1\n",
       "957        reference     1\n",
       "958       visibility     1\n",
       "959                      1\n",
       "\n",
       "[368 rows x 2 columns]"
      ]
     },
     "execution_count": 11,
     "metadata": {},
     "output_type": "execute_result"
    }
   ],
   "source": [
    "unique.loc[unique['freq']==1]"
   ]
  },
  {
   "cell_type": "code",
   "execution_count": 12,
   "id": "9b764550",
   "metadata": {},
   "outputs": [
    {
     "data": {
      "text/plain": [
       "0.9592391304347826"
      ]
     },
     "execution_count": 12,
     "metadata": {},
     "output_type": "execute_result"
    }
   ],
   "source": [
    "len(unique.loc[unique['freq']==2])/len(unique.loc[unique['freq']==1])"
   ]
  },
  {
   "cell_type": "code",
   "execution_count": 13,
   "id": "db7ce6fb",
   "metadata": {},
   "outputs": [
    {
     "data": {
      "text/plain": [
       "<matplotlib.collections.PathCollection at 0x7ff2a97b16d0>"
      ]
     },
     "execution_count": 13,
     "metadata": {},
     "output_type": "execute_result"
    },
    {
     "data": {
      "image/png": "[encoded data removed]",
      "text/plain": [
       "<Figure size 432x288 with 1 Axes>"
      ]
     },
     "metadata": {
      "needs_background": "light"
     },
     "output_type": "display_data"
    }
   ],
   "source": [
    "plt.xscale('log')\n",
    "plt.yscale('log')\n",
    "plt.scatter(unique.index, unique['freq'])"
   ]
  }
 ],
 "metadata": {
  "kernelspec": {
   "display_name": "Python 3 (ipykernel)",
   "language": "python",
   "name": "python3"
  },
  "language_info": {
   "codemirror_mode": {
    "name": "ipython",
    "version": 3
   },
   "file_extension": ".py",
   "mimetype": "text/x-python",
   "name": "python",
   "nbconvert_exporter": "python",
   "pygments_lexer": "ipython3",
   "version": "3.9.7"
  }
 },
 "nbformat": 4,
 "nbformat_minor": 5
}
