{
 "cells": [
  {
   "cell_type": "code",
   "execution_count": 1,
   "id": "01ff1705",
   "metadata": {},
   "outputs": [],
   "source": [
    "import os\n",
    "\n",
    "import shutil\n",
    "\n",
    "from collections import Counter"
   ]
  },
  {
   "cell_type": "code",
   "execution_count": 3,
   "id": "9d6d33ec",
   "metadata": {},
   "outputs": [],
   "source": [
    "home = os.getcwd()\n",
    "folder = 'corpus/unity_code/'"
   ]
  },
  {
   "cell_type": "code",
   "execution_count": 11,
   "id": "1833fd34",
   "metadata": {},
   "outputs": [],
   "source": [
    "with open(f'{home}/corpus/mergers/unity_code.txt','wb') as destination_file:\n",
    "    for filename in os.listdir(f'{home}/{folder}'):\n",
    "        with open(f'{home}/{folder}/{filename}','rb') as current_file:\n",
    "            shutil.copyfileobj(current_file, destination_file)"
   ]
  },
  {
   "cell_type": "code",
   "execution_count": 6,
   "id": "193fc2fc",
   "metadata": {},
   "outputs": [],
   "source": [
    "home = os.getcwd()\n",
    "folder = 'songs'"
   ]
  },
  {
   "cell_type": "code",
   "execution_count": 8,
   "id": "e3890aef",
   "metadata": {
    "scrolled": true
   },
   "outputs": [],
   "source": [
    "with open(f'{home}/corpus/mergers/songs.txt','wb') as destination_file:\n",
    "    for root, dirs, files in os.walk(f'{home}/{folder}'):\n",
    "        for file in files:\n",
    "            with open(f'{root}/{file}', 'rb') as current_file:\n",
    "                shutil.copyfileobj(current_file, destination_file)"
   ]
  }
 ],
 "metadata": {
  "kernelspec": {
   "display_name": "Python 3 (ipykernel)",
   "language": "python",
   "name": "python3"
  },
  "language_info": {
   "codemirror_mode": {
    "name": "ipython",
    "version": 3
   },
   "file_extension": ".py",
   "mimetype": "text/x-python",
   "name": "python",
   "nbconvert_exporter": "python",
   "pygments_lexer": "ipython3",
   "version": "3.9.7"
  }
 },
 "nbformat": 4,
 "nbformat_minor": 5
}
